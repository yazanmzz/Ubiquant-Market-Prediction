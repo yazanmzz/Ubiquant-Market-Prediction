{
 "cells": [
  {
   "cell_type": "code",
   "execution_count": 1,
   "id": "be4a0d84",
   "metadata": {
    "_cell_guid": "b1076dfc-b9ad-4769-8c92-a6c4dae69d19",
    "_uuid": "8f2839f25d086af736a60e9eeb907d3b93b6e0e5",
    "execution": {
     "iopub.execute_input": "2022-01-19T10:53:14.635897Z",
     "iopub.status.busy": "2022-01-19T10:53:14.634840Z",
     "iopub.status.idle": "2022-01-19T10:53:57.961724Z",
     "shell.execute_reply": "2022-01-19T10:53:57.960862Z",
     "shell.execute_reply.started": "2022-01-19T10:51:40.441885Z"
    },
    "papermill": {
     "duration": 43.341461,
     "end_time": "2022-01-19T10:53:57.961963",
     "exception": false,
     "start_time": "2022-01-19T10:53:14.620502",
     "status": "completed"
    },
    "tags": []
   },
   "outputs": [],
   "source": [
    "import pandas as pd\n",
    "import numpy as np\n",
    "\n",
    "\n",
    "#data from : https://www.kaggle.com/columbia2131/speed-up-reading-csv-to-pickle/notebook\n",
    "train = pd.read_pickle('../input/ump-train-picklefile/train.pkl')"
   ]
  },
  {
   "cell_type": "code",
   "execution_count": 2,
   "id": "3ab3b7bb",
   "metadata": {
    "execution": {
     "iopub.execute_input": "2022-01-19T10:53:57.991255Z",
     "iopub.status.busy": "2022-01-19T10:53:57.990178Z",
     "iopub.status.idle": "2022-01-19T10:53:57.993858Z",
     "shell.execute_reply": "2022-01-19T10:53:57.993275Z",
     "shell.execute_reply.started": "2022-01-19T10:51:48.291164Z"
    },
    "papermill": {
     "duration": 0.020465,
     "end_time": "2022-01-19T10:53:57.994023",
     "exception": false,
     "start_time": "2022-01-19T10:53:57.973558",
     "status": "completed"
    },
    "tags": []
   },
   "outputs": [],
   "source": [
    "features = ['investment_id']\n",
    "features+=(f'f_{i}' for i in range(300))\n"
   ]
  },
  {
   "cell_type": "code",
   "execution_count": 3,
   "id": "ee14ebbb",
   "metadata": {
    "execution": {
     "iopub.execute_input": "2022-01-19T10:53:58.025749Z",
     "iopub.status.busy": "2022-01-19T10:53:58.025095Z",
     "iopub.status.idle": "2022-01-19T10:54:00.197470Z",
     "shell.execute_reply": "2022-01-19T10:54:00.197959Z",
     "shell.execute_reply.started": "2022-01-19T10:51:48.299254Z"
    },
    "papermill": {
     "duration": 2.193799,
     "end_time": "2022-01-19T10:54:00.198158",
     "exception": false,
     "start_time": "2022-01-19T10:53:58.004359",
     "status": "completed"
    },
    "tags": []
   },
   "outputs": [],
   "source": [
    "target=train['target']\n",
    "all_data=train[features]\n"
   ]
  },
  {
   "cell_type": "code",
   "execution_count": 4,
   "id": "c2481eee",
   "metadata": {
    "execution": {
     "iopub.execute_input": "2022-01-19T10:54:00.222087Z",
     "iopub.status.busy": "2022-01-19T10:54:00.221359Z",
     "iopub.status.idle": "2022-01-19T11:19:46.467972Z",
     "shell.execute_reply": "2022-01-19T11:19:46.467370Z",
     "shell.execute_reply.started": "2022-01-19T10:51:49.883188Z"
    },
    "papermill": {
     "duration": 1546.2604,
     "end_time": "2022-01-19T11:19:46.468201",
     "exception": false,
     "start_time": "2022-01-19T10:54:00.207801",
     "status": "completed"
    },
    "tags": []
   },
   "outputs": [
    {
     "name": "stderr",
     "output_type": "stream",
     "text": [
      "You should provide test set for use best model. use_best_model parameter has been switched to false value.\n"
     ]
    },
    {
     "name": "stdout",
     "output_type": "stream",
     "text": [
      "Learning rate set to 0.146125\n",
      "0:\tlearn: 0.9187326\ttotal: 1.94s\tremaining: 32m 17s\n",
      "50:\tlearn: 0.9110980\ttotal: 1m 28s\tremaining: 27m 19s\n",
      "100:\tlearn: 0.9087140\ttotal: 2m 48s\tremaining: 24m 59s\n",
      "150:\tlearn: 0.9064832\ttotal: 4m 8s\tremaining: 23m 17s\n",
      "200:\tlearn: 0.9044232\ttotal: 5m 26s\tremaining: 21m 39s\n",
      "250:\tlearn: 0.9026263\ttotal: 6m 46s\tremaining: 20m 12s\n",
      "300:\tlearn: 0.9009620\ttotal: 8m 6s\tremaining: 18m 48s\n",
      "350:\tlearn: 0.8993949\ttotal: 9m 21s\tremaining: 17m 18s\n",
      "400:\tlearn: 0.8979880\ttotal: 10m 34s\tremaining: 15m 47s\n",
      "450:\tlearn: 0.8966444\ttotal: 11m 48s\tremaining: 14m 22s\n",
      "500:\tlearn: 0.8953473\ttotal: 13m 3s\tremaining: 13m\n",
      "550:\tlearn: 0.8940892\ttotal: 14m 13s\tremaining: 11m 35s\n",
      "600:\tlearn: 0.8928787\ttotal: 15m 28s\tremaining: 10m 16s\n",
      "650:\tlearn: 0.8917191\ttotal: 16m 46s\tremaining: 8m 59s\n",
      "700:\tlearn: 0.8905554\ttotal: 18m 1s\tremaining: 7m 41s\n",
      "750:\tlearn: 0.8894898\ttotal: 19m 12s\tremaining: 6m 22s\n",
      "800:\tlearn: 0.8884052\ttotal: 20m 28s\tremaining: 5m 5s\n",
      "850:\tlearn: 0.8874093\ttotal: 21m 42s\tremaining: 3m 48s\n",
      "900:\tlearn: 0.8864161\ttotal: 22m 58s\tremaining: 2m 31s\n",
      "950:\tlearn: 0.8854817\ttotal: 24m 5s\tremaining: 1m 14s\n",
      "999:\tlearn: 0.8845463\ttotal: 25m 18s\tremaining: 0us\n"
     ]
    },
    {
     "data": {
      "text/plain": [
       "<catboost.core.CatBoostRegressor at 0x7f8c2dc267d0>"
      ]
     },
     "execution_count": 4,
     "metadata": {},
     "output_type": "execute_result"
    }
   ],
   "source": [
    "from catboost import CatBoostRegressor\n",
    "model = CatBoostRegressor()\n",
    "model.fit(all_data, target,\n",
    "             use_best_model=True,\n",
    "             verbose=50)\n"
   ]
  },
  {
   "cell_type": "code",
   "execution_count": 5,
   "id": "80069538",
   "metadata": {
    "execution": {
     "iopub.execute_input": "2022-01-19T11:19:46.508868Z",
     "iopub.status.busy": "2022-01-19T11:19:46.508223Z",
     "iopub.status.idle": "2022-01-19T11:19:46.549310Z",
     "shell.execute_reply": "2022-01-19T11:19:46.548836Z",
     "shell.execute_reply.started": "2022-01-19T10:51:53.080759Z"
    },
    "papermill": {
     "duration": 0.065959,
     "end_time": "2022-01-19T11:19:46.549451",
     "exception": false,
     "start_time": "2022-01-19T11:19:46.483492",
     "status": "completed"
    },
    "tags": []
   },
   "outputs": [],
   "source": [
    "\n",
    "import ubiquant\n",
    "env = ubiquant.make_env()   # initialize the environment\n",
    "iter_test = env.iter_test()    # an iterator which loops over the test set and sample submission"
   ]
  },
  {
   "cell_type": "code",
   "execution_count": 6,
   "id": "9683eaf2",
   "metadata": {
    "execution": {
     "iopub.execute_input": "2022-01-19T11:19:46.584955Z",
     "iopub.status.busy": "2022-01-19T11:19:46.584375Z",
     "iopub.status.idle": "2022-01-19T11:19:46.684409Z",
     "shell.execute_reply": "2022-01-19T11:19:46.683893Z",
     "shell.execute_reply.started": "2022-01-19T10:51:53.096154Z"
    },
    "papermill": {
     "duration": 0.119823,
     "end_time": "2022-01-19T11:19:46.684540",
     "exception": false,
     "start_time": "2022-01-19T11:19:46.564717",
     "status": "completed"
    },
    "tags": []
   },
   "outputs": [
    {
     "name": "stdout",
     "output_type": "stream",
     "text": [
      "This version of the API is not optimized and should not be used to estimate the runtime of your code on the hidden test set.\n"
     ]
    }
   ],
   "source": [
    "\n",
    "for (test_df, sample_prediction_df) in iter_test:\n",
    "\n",
    "    preds = model.predict(test_df[features].values)\n",
    "    sample_prediction_df['target'] = preds  # make your predictions here\n",
    "    env.predict(sample_prediction_df)  "
   ]
  },
  {
   "cell_type": "code",
   "execution_count": null,
   "id": "fc7dcc35",
   "metadata": {
    "papermill": {
     "duration": 0.015913,
     "end_time": "2022-01-19T11:19:46.716563",
     "exception": false,
     "start_time": "2022-01-19T11:19:46.700650",
     "status": "completed"
    },
    "tags": []
   },
   "outputs": [],
   "source": []
  },
  {
   "cell_type": "code",
   "execution_count": null,
   "id": "c93c347d",
   "metadata": {
    "papermill": {
     "duration": 0.01461,
     "end_time": "2022-01-19T11:19:46.746266",
     "exception": false,
     "start_time": "2022-01-19T11:19:46.731656",
     "status": "completed"
    },
    "tags": []
   },
   "outputs": [],
   "source": []
  },
  {
   "cell_type": "code",
   "execution_count": null,
   "id": "844d7992",
   "metadata": {
    "papermill": {
     "duration": 0.016485,
     "end_time": "2022-01-19T11:19:46.777890",
     "exception": false,
     "start_time": "2022-01-19T11:19:46.761405",
     "status": "completed"
    },
    "tags": []
   },
   "outputs": [],
   "source": []
  },
  {
   "cell_type": "code",
   "execution_count": null,
   "id": "86ca77b4",
   "metadata": {
    "papermill": {
     "duration": 0.01461,
     "end_time": "2022-01-19T11:19:46.807960",
     "exception": false,
     "start_time": "2022-01-19T11:19:46.793350",
     "status": "completed"
    },
    "tags": []
   },
   "outputs": [],
   "source": []
  },
  {
   "cell_type": "code",
   "execution_count": null,
   "id": "d5b0d795",
   "metadata": {
    "papermill": {
     "duration": 0.01456,
     "end_time": "2022-01-19T11:19:46.837224",
     "exception": false,
     "start_time": "2022-01-19T11:19:46.822664",
     "status": "completed"
    },
    "tags": []
   },
   "outputs": [],
   "source": []
  },
  {
   "cell_type": "code",
   "execution_count": null,
   "id": "9c1b0b3b",
   "metadata": {
    "papermill": {
     "duration": 0.014695,
     "end_time": "2022-01-19T11:19:46.866812",
     "exception": false,
     "start_time": "2022-01-19T11:19:46.852117",
     "status": "completed"
    },
    "tags": []
   },
   "outputs": [],
   "source": []
  },
  {
   "cell_type": "code",
   "execution_count": null,
   "id": "2d56af2c",
   "metadata": {
    "papermill": {
     "duration": 0.014531,
     "end_time": "2022-01-19T11:19:46.896034",
     "exception": false,
     "start_time": "2022-01-19T11:19:46.881503",
     "status": "completed"
    },
    "tags": []
   },
   "outputs": [],
   "source": []
  },
  {
   "cell_type": "code",
   "execution_count": null,
   "id": "89f95fbb",
   "metadata": {
    "papermill": {
     "duration": 0.014794,
     "end_time": "2022-01-19T11:19:46.925750",
     "exception": false,
     "start_time": "2022-01-19T11:19:46.910956",
     "status": "completed"
    },
    "tags": []
   },
   "outputs": [],
   "source": []
  },
  {
   "cell_type": "code",
   "execution_count": null,
   "id": "8619cde2",
   "metadata": {
    "papermill": {
     "duration": 0.014615,
     "end_time": "2022-01-19T11:19:46.955072",
     "exception": false,
     "start_time": "2022-01-19T11:19:46.940457",
     "status": "completed"
    },
    "tags": []
   },
   "outputs": [],
   "source": []
  },
  {
   "cell_type": "code",
   "execution_count": null,
   "id": "c4f38ae4",
   "metadata": {
    "papermill": {
     "duration": 0.014515,
     "end_time": "2022-01-19T11:19:46.984352",
     "exception": false,
     "start_time": "2022-01-19T11:19:46.969837",
     "status": "completed"
    },
    "tags": []
   },
   "outputs": [],
   "source": []
  }
 ],
 "metadata": {
  "kernelspec": {
   "display_name": "Python 3",
   "language": "python",
   "name": "python3"
  },
  "language_info": {
   "codemirror_mode": {
    "name": "ipython",
    "version": 3
   },
   "file_extension": ".py",
   "mimetype": "text/x-python",
   "name": "python",
   "nbconvert_exporter": "python",
   "pygments_lexer": "ipython3",
   "version": "3.7.12"
  },
  "papermill": {
   "default_parameters": {},
   "duration": 1602.131836,
   "end_time": "2022-01-19T11:19:48.616631",
   "environment_variables": {},
   "exception": null,
   "input_path": "__notebook__.ipynb",
   "output_path": "__notebook__.ipynb",
   "parameters": {},
   "start_time": "2022-01-19T10:53:06.484795",
   "version": "2.3.3"
  }
 },
 "nbformat": 4,
 "nbformat_minor": 5
}
